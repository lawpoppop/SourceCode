{
 "cells": [
  {
   "cell_type": "markdown",
   "metadata": {},
   "source": [
    "<h1>Network Analysis for Anti-Money Laundering with Python</h1>\n",
    "\n",
    "Tutorial at Medium: https://medium.com/@jasonclwu/network-analysis-for-anti-money-laundering-with-python-ad981792a947?source=friends_link&sk=4e9b00afed35cce27d22f3cf345998a9\n",
    "\n",
    "Notebook at Github: https://github.com/jasonclwu/202209_AML_Network_Analysis\n",
    "\n",
    "LAW-FIX\n",
    "-fix issue of pyvis show error by downgrade from 0.3.2 to 0.3.1\n",
    "pip install --upgrade pyvis==0.3.1"
   ]
  },
  {
   "cell_type": "markdown",
   "metadata": {},
   "source": [
    "<h2>Importing Libraries</h2>"
   ]
  },
  {
   "cell_type": "code",
   "execution_count": 49,
   "metadata": {},
   "outputs": [],
   "source": [
    "import pandas as pd\n",
    "import networkx as nx\n",
    "from pyvis import network as net\n",
    "import matplotlib.pyplot as plt\n",
    "%matplotlib inline\n",
    "pd.options.display.float_format = '{:,.0f}'.format"
   ]
  },
  {
   "cell_type": "markdown",
   "metadata": {},
   "source": [
    "<h2>Dataset</h2>"
   ]
  },
  {
   "cell_type": "code",
   "execution_count": 50,
   "metadata": {},
   "outputs": [],
   "source": [
    "# https://www.kaggle.com/datasets/anshankul/ibm-amlsim-example-dataset\n",
    "\n",
    "from zipfile import ZipFile\n",
    "with ZipFile('data.zip','r') as zip:\n",
    "    zip.extractall(path='data')"
   ]
  },
  {
   "cell_type": "markdown",
   "metadata": {},
   "source": [
    "<h2>Play around with networkx and pyvis using small dataset</h2>"
   ]
  },
  {
   "cell_type": "code",
   "execution_count": 51,
   "metadata": {},
   "outputs": [
    {
     "data": {
      "text/html": [
       "<div>\n",
       "<style scoped>\n",
       "    .dataframe tbody tr th:only-of-type {\n",
       "        vertical-align: middle;\n",
       "    }\n",
       "\n",
       "    .dataframe tbody tr th {\n",
       "        vertical-align: top;\n",
       "    }\n",
       "\n",
       "    .dataframe thead th {\n",
       "        text-align: right;\n",
       "    }\n",
       "</style>\n",
       "<table border=\"1\" class=\"dataframe\">\n",
       "  <thead>\n",
       "    <tr style=\"text-align: right;\">\n",
       "      <th></th>\n",
       "      <th>SENDER_ACCOUNT_ID</th>\n",
       "      <th>RECEIVER_ACCOUNT_ID</th>\n",
       "      <th>TX_AMOUNT</th>\n",
       "    </tr>\n",
       "  </thead>\n",
       "  <tbody>\n",
       "    <tr>\n",
       "      <th>0</th>\n",
       "      <td>7366</td>\n",
       "      <td>8662</td>\n",
       "      <td>65</td>\n",
       "    </tr>\n",
       "    <tr>\n",
       "      <th>1</th>\n",
       "      <td>9245</td>\n",
       "      <td>7121</td>\n",
       "      <td>1,043</td>\n",
       "    </tr>\n",
       "    <tr>\n",
       "      <th>2</th>\n",
       "      <td>6427</td>\n",
       "      <td>9245</td>\n",
       "      <td>501</td>\n",
       "    </tr>\n",
       "    <tr>\n",
       "      <th>3</th>\n",
       "      <td>7515</td>\n",
       "      <td>8255</td>\n",
       "      <td>587</td>\n",
       "    </tr>\n",
       "    <tr>\n",
       "      <th>4</th>\n",
       "      <td>7515</td>\n",
       "      <td>8255</td>\n",
       "      <td>587</td>\n",
       "    </tr>\n",
       "    <tr>\n",
       "      <th>...</th>\n",
       "      <td>...</td>\n",
       "      <td>...</td>\n",
       "      <td>...</td>\n",
       "    </tr>\n",
       "    <tr>\n",
       "      <th>1845</th>\n",
       "      <td>6427</td>\n",
       "      <td>9245</td>\n",
       "      <td>501</td>\n",
       "    </tr>\n",
       "    <tr>\n",
       "      <th>1846</th>\n",
       "      <td>7515</td>\n",
       "      <td>8255</td>\n",
       "      <td>587</td>\n",
       "    </tr>\n",
       "    <tr>\n",
       "      <th>1847</th>\n",
       "      <td>7515</td>\n",
       "      <td>8255</td>\n",
       "      <td>587</td>\n",
       "    </tr>\n",
       "    <tr>\n",
       "      <th>1848</th>\n",
       "      <td>6427</td>\n",
       "      <td>9245</td>\n",
       "      <td>501</td>\n",
       "    </tr>\n",
       "    <tr>\n",
       "      <th>1849</th>\n",
       "      <td>7366</td>\n",
       "      <td>6847</td>\n",
       "      <td>21,474,836</td>\n",
       "    </tr>\n",
       "  </tbody>\n",
       "</table>\n",
       "<p>1850 rows × 3 columns</p>\n",
       "</div>"
      ],
      "text/plain": [
       "     SENDER_ACCOUNT_ID RECEIVER_ACCOUNT_ID  TX_AMOUNT\n",
       "0                 7366                8662         65\n",
       "1                 9245                7121      1,043\n",
       "2                 6427                9245        501\n",
       "3                 7515                8255        587\n",
       "4                 7515                8255        587\n",
       "...                ...                 ...        ...\n",
       "1845              6427                9245        501\n",
       "1846              7515                8255        587\n",
       "1847              7515                8255        587\n",
       "1848              6427                9245        501\n",
       "1849              7366                6847 21,474,836\n",
       "\n",
       "[1850 rows x 3 columns]"
      ]
     },
     "execution_count": 51,
     "metadata": {},
     "output_type": "execute_result"
    }
   ],
   "source": [
    "txn_small = pd.read_csv('data/transactions_sample.csv', usecols=['SENDER_ACCOUNT_ID','RECEIVER_ACCOUNT_ID','TX_AMOUNT'], dtype='object')\n",
    "txn_small['TX_AMOUNT'] = txn_small['TX_AMOUNT'].astype(float)\n",
    "txn_small"
   ]
  },
  {
   "cell_type": "markdown",
   "metadata": {},
   "source": [
    "<h3>Obtain Transaction Summary for Each Node Pair</h3>"
   ]
  },
  {
   "cell_type": "code",
   "execution_count": 4,
   "metadata": {},
   "outputs": [
    {
     "data": {
      "text/html": [
       "<div>\n",
       "<style scoped>\n",
       "    .dataframe tbody tr th:only-of-type {\n",
       "        vertical-align: middle;\n",
       "    }\n",
       "\n",
       "    .dataframe tbody tr th {\n",
       "        vertical-align: top;\n",
       "    }\n",
       "\n",
       "    .dataframe thead th {\n",
       "        text-align: right;\n",
       "    }\n",
       "</style>\n",
       "<table border=\"1\" class=\"dataframe\">\n",
       "  <thead>\n",
       "    <tr style=\"text-align: right;\">\n",
       "      <th></th>\n",
       "      <th>source</th>\n",
       "      <th>target</th>\n",
       "      <th>agg_txn_count</th>\n",
       "      <th>agg_txn_amt</th>\n",
       "    </tr>\n",
       "  </thead>\n",
       "  <tbody>\n",
       "    <tr>\n",
       "      <th>0</th>\n",
       "      <td>6427</td>\n",
       "      <td>8264</td>\n",
       "      <td>1</td>\n",
       "      <td>4</td>\n",
       "    </tr>\n",
       "    <tr>\n",
       "      <th>1</th>\n",
       "      <td>6427</td>\n",
       "      <td>9245</td>\n",
       "      <td>177</td>\n",
       "      <td>88,751</td>\n",
       "    </tr>\n",
       "    <tr>\n",
       "      <th>2</th>\n",
       "      <td>7366</td>\n",
       "      <td>1332</td>\n",
       "      <td>2</td>\n",
       "      <td>2,357,413</td>\n",
       "    </tr>\n",
       "    <tr>\n",
       "      <th>3</th>\n",
       "      <td>7366</td>\n",
       "      <td>5463</td>\n",
       "      <td>2</td>\n",
       "      <td>1,527,734</td>\n",
       "    </tr>\n",
       "    <tr>\n",
       "      <th>4</th>\n",
       "      <td>7366</td>\n",
       "      <td>5717</td>\n",
       "      <td>2</td>\n",
       "      <td>344,658</td>\n",
       "    </tr>\n",
       "    <tr>\n",
       "      <th>...</th>\n",
       "      <td>...</td>\n",
       "      <td>...</td>\n",
       "      <td>...</td>\n",
       "      <td>...</td>\n",
       "    </tr>\n",
       "    <tr>\n",
       "      <th>103</th>\n",
       "      <td>9628</td>\n",
       "      <td>9917</td>\n",
       "      <td>20</td>\n",
       "      <td>2,230</td>\n",
       "    </tr>\n",
       "    <tr>\n",
       "      <th>104</th>\n",
       "      <td>9628</td>\n",
       "      <td>9961</td>\n",
       "      <td>20</td>\n",
       "      <td>2,230</td>\n",
       "    </tr>\n",
       "    <tr>\n",
       "      <th>105</th>\n",
       "      <td>9628</td>\n",
       "      <td>9973</td>\n",
       "      <td>20</td>\n",
       "      <td>2,230</td>\n",
       "    </tr>\n",
       "    <tr>\n",
       "      <th>106</th>\n",
       "      <td>9628</td>\n",
       "      <td>9974</td>\n",
       "      <td>20</td>\n",
       "      <td>2,230</td>\n",
       "    </tr>\n",
       "    <tr>\n",
       "      <th>107</th>\n",
       "      <td>9628</td>\n",
       "      <td>9988</td>\n",
       "      <td>20</td>\n",
       "      <td>2,230</td>\n",
       "    </tr>\n",
       "  </tbody>\n",
       "</table>\n",
       "<p>108 rows × 4 columns</p>\n",
       "</div>"
      ],
      "text/plain": [
       "    source target  agg_txn_count  agg_txn_amt\n",
       "0     6427   8264              1            4\n",
       "1     6427   9245            177       88,751\n",
       "2     7366   1332              2    2,357,413\n",
       "3     7366   5463              2    1,527,734\n",
       "4     7366   5717              2      344,658\n",
       "..     ...    ...            ...          ...\n",
       "103   9628   9917             20        2,230\n",
       "104   9628   9961             20        2,230\n",
       "105   9628   9973             20        2,230\n",
       "106   9628   9974             20        2,230\n",
       "107   9628   9988             20        2,230\n",
       "\n",
       "[108 rows x 4 columns]"
      ]
     },
     "execution_count": 4,
     "metadata": {},
     "output_type": "execute_result"
    }
   ],
   "source": [
    "edge_small = txn_small.groupby(['SENDER_ACCOUNT_ID', 'RECEIVER_ACCOUNT_ID'],as_index=False).agg({'TX_AMOUNT':['count','sum']})\n",
    "edge_small.columns = ['source','target','agg_txn_count','agg_txn_amt']\n",
    "edge_small"
   ]
  },
  {
   "cell_type": "markdown",
   "metadata": {},
   "source": [
    "<h2>Import Transactions to Networkx</h2>"
   ]
  },
  {
   "cell_type": "code",
   "execution_count": 5,
   "metadata": {},
   "outputs": [],
   "source": [
    "G = nx.from_pandas_edgelist(edge_small, source='source', target='target')"
   ]
  },
  {
   "cell_type": "code",
   "execution_count": 6,
   "metadata": {},
   "outputs": [
    {
     "data": {
      "text/plain": [
       "['6427', '8264', '9245', '7366', '1332']"
      ]
     },
     "execution_count": 6,
     "metadata": {},
     "output_type": "execute_result"
    }
   ],
   "source": [
    "# Show the first 5 node of G\n",
    "list(G.nodes)[0:5]\n"
   ]
  },
  {
   "cell_type": "code",
   "execution_count": 7,
   "metadata": {},
   "outputs": [
    {
     "data": {
      "text/plain": [
       "[('6427', '8264'),\n",
       " ('6427', '9245'),\n",
       " ('9245', '9056'),\n",
       " ('9245', '1651'),\n",
       " ('9245', '2483')]"
      ]
     },
     "execution_count": 7,
     "metadata": {},
     "output_type": "execute_result"
    }
   ],
   "source": [
    "# Show the first 5 edge of G\n",
    "list(G.edges)[0:5]"
   ]
  },
  {
   "cell_type": "code",
   "execution_count": 8,
   "metadata": {},
   "outputs": [
    {
     "data": {
      "text/plain": [
       "[('6427', {}), ('8264', {}), ('9245', {}), ('7366', {}), ('1332', {})]"
      ]
     },
     "execution_count": 8,
     "metadata": {},
     "output_type": "execute_result"
    }
   ],
   "source": [
    "# Show the first 5 node of G with all attributes\n",
    "list(G.nodes(data=True))[0:5]"
   ]
  },
  {
   "cell_type": "code",
   "execution_count": 9,
   "metadata": {},
   "outputs": [
    {
     "data": {
      "text/plain": [
       "[('6427', '8264', {}),\n",
       " ('6427', '9245', {}),\n",
       " ('9245', '9056', {}),\n",
       " ('9245', '1651', {}),\n",
       " ('9245', '2483', {})]"
      ]
     },
     "execution_count": 9,
     "metadata": {},
     "output_type": "execute_result"
    }
   ],
   "source": [
    "# Show the first 5 edge of G with all attributes\n",
    "list(G.edges(data=True))[0:5]"
   ]
  },
  {
   "cell_type": "markdown",
   "metadata": {},
   "source": [
    "<h3>Various network layout</h3>"
   ]
  },
  {
   "cell_type": "code",
   "execution_count": 10,
   "metadata": {},
   "outputs": [
    {
     "data": {
      "image/png": "[encoded data removed]",
      "text/plain": [
       "<Figure size 800x600 with 1 Axes>"
      ]
     },
     "metadata": {},
     "output_type": "display_data"
    }
   ],
   "source": [
    "# Networkx Default Layout\n",
    "plt.figure(figsize=(8,6))\n",
    "nx.draw(G)\n",
    "plt.show()"
   ]
  },
  {
   "cell_type": "code",
   "execution_count": 12,
   "metadata": {},
   "outputs": [],
   "source": [
    "# Pyvis Default Layout\n",
    "nt = net.Network(directed=True)\n",
    "nt.from_nx(G)\n",
    "nt.show('01_pyvis_default.html')"
   ]
  },
  {
   "cell_type": "markdown",
   "metadata": {},
   "source": [
    "<h3>Create function for drawing network graph</h3>"
   ]
  },
  {
   "cell_type": "code",
   "execution_count": 13,
   "metadata": {},
   "outputs": [],
   "source": [
    "def show_graph(graph, filename):\n",
    "    nt = net.Network(directed=True)\n",
    "    nt.from_nx(graph)\n",
    "    nt.show(filename)"
   ]
  },
  {
   "cell_type": "markdown",
   "metadata": {},
   "source": [
    "<h2>Setting Node Attributes</h2>"
   ]
  },
  {
   "cell_type": "markdown",
   "metadata": {},
   "source": [
    "<h3>Set the node size according to the degree (number of connections) of node</h3>"
   ]
  },
  {
   "cell_type": "code",
   "execution_count": 14,
   "metadata": {},
   "outputs": [
    {
     "data": {
      "text/plain": [
       "[('6427', 2), ('8264', 1), ('9245', 24), ('7366', 13), ('1332', 1)]"
      ]
     },
     "execution_count": 14,
     "metadata": {},
     "output_type": "execute_result"
    }
   ],
   "source": [
    "list(G.degree)[0:5]"
   ]
  },
  {
   "cell_type": "code",
   "execution_count": 15,
   "metadata": {},
   "outputs": [],
   "source": [
    "degree_dict_G = dict(G.degree)\n",
    "nx.set_node_attributes(G, degree_dict_G, 'value')"
   ]
  },
  {
   "cell_type": "code",
   "execution_count": 16,
   "metadata": {},
   "outputs": [
    {
     "data": {
      "text/plain": [
       "[('6427', {'size': 10, 'value': 2}),\n",
       " ('8264', {'size': 10, 'value': 1}),\n",
       " ('9245', {'size': 10, 'value': 24}),\n",
       " ('7366', {'size': 10, 'value': 13}),\n",
       " ('1332', {'size': 10, 'value': 1})]"
      ]
     },
     "execution_count": 16,
     "metadata": {},
     "output_type": "execute_result"
    }
   ],
   "source": [
    "list(G.nodes(data=True))[0:5]"
   ]
  },
  {
   "cell_type": "code",
   "execution_count": 17,
   "metadata": {},
   "outputs": [],
   "source": [
    "show_graph(G, '02_node_size.html')"
   ]
  },
  {
   "cell_type": "markdown",
   "metadata": {},
   "source": [
    "<h3>Retrieve ID for each node and display in graph (hover on node)</h3>"
   ]
  },
  {
   "cell_type": "code",
   "execution_count": 18,
   "metadata": {},
   "outputs": [],
   "source": [
    "title_dict_G = {}\n",
    "for node in list(G.nodes):\n",
    "    title_dict_G[node] = f'id: {node}'\n",
    "nx.set_node_attributes(G, title_dict_G, 'title')\n",
    "show_graph(G, '03_node_title_1.html')"
   ]
  },
  {
   "cell_type": "markdown",
   "metadata": {},
   "source": [
    "<h3>Retrieve neighbors for each node</h3>"
   ]
  },
  {
   "cell_type": "code",
   "execution_count": 19,
   "metadata": {},
   "outputs": [
    {
     "data": {
      "text/plain": [
       "['2612', '4501', '5071', '5928', '6124']"
      ]
     },
     "execution_count": 19,
     "metadata": {},
     "output_type": "execute_result"
    }
   ],
   "source": [
    "list(G.neighbors('8682'))[0:5]"
   ]
  },
  {
   "cell_type": "code",
   "execution_count": 20,
   "metadata": {},
   "outputs": [],
   "source": [
    "neighbor_dict_G = {}\n",
    "for node in list(G.nodes):\n",
    "    neighbor_dict_G[node] = ','.join(G.neighbors(node))"
   ]
  },
  {
   "cell_type": "markdown",
   "metadata": {},
   "source": [
    "<h3>Display ID, Degree and Neighbors in Graph (Hover on Node)</h3>"
   ]
  },
  {
   "cell_type": "code",
   "execution_count": 21,
   "metadata": {},
   "outputs": [],
   "source": [
    "title_dict_G = {}\n",
    "for node in list(G.nodes):\n",
    "    title_dict_G[node] = f'id: {node}\\ndegree: {degree_dict_G[node]}\\nneighbor: {neighbor_dict_G[node]}'\n",
    "nx.set_node_attributes(G, title_dict_G, 'title')\n",
    "\n",
    "show_graph(G, '04_node_title_2.html')"
   ]
  },
  {
   "cell_type": "markdown",
   "metadata": {},
   "source": [
    "<h2>Setting Edge Attributes</h2>"
   ]
  },
  {
   "cell_type": "code",
   "execution_count": 22,
   "metadata": {},
   "outputs": [
    {
     "data": {
      "text/html": [
       "<div>\n",
       "<style scoped>\n",
       "    .dataframe tbody tr th:only-of-type {\n",
       "        vertical-align: middle;\n",
       "    }\n",
       "\n",
       "    .dataframe tbody tr th {\n",
       "        vertical-align: top;\n",
       "    }\n",
       "\n",
       "    .dataframe thead th {\n",
       "        text-align: right;\n",
       "    }\n",
       "</style>\n",
       "<table border=\"1\" class=\"dataframe\">\n",
       "  <thead>\n",
       "    <tr style=\"text-align: right;\">\n",
       "      <th></th>\n",
       "      <th>source</th>\n",
       "      <th>target</th>\n",
       "      <th>agg_txn_count</th>\n",
       "      <th>agg_txn_amt</th>\n",
       "      <th>value</th>\n",
       "      <th>title</th>\n",
       "    </tr>\n",
       "  </thead>\n",
       "  <tbody>\n",
       "    <tr>\n",
       "      <th>0</th>\n",
       "      <td>6427</td>\n",
       "      <td>8264</td>\n",
       "      <td>1</td>\n",
       "      <td>4</td>\n",
       "      <td>4</td>\n",
       "      <td>from: 6427\\nto: 8264\\nagg_count: 1\\nagg_amount: 4</td>\n",
       "    </tr>\n",
       "    <tr>\n",
       "      <th>1</th>\n",
       "      <td>6427</td>\n",
       "      <td>9245</td>\n",
       "      <td>177</td>\n",
       "      <td>88,751</td>\n",
       "      <td>88,751</td>\n",
       "      <td>from: 6427\\nto: 9245\\nagg_count: 177\\nagg_amou...</td>\n",
       "    </tr>\n",
       "    <tr>\n",
       "      <th>2</th>\n",
       "      <td>7366</td>\n",
       "      <td>1332</td>\n",
       "      <td>2</td>\n",
       "      <td>2,357,413</td>\n",
       "      <td>2,357,413</td>\n",
       "      <td>from: 7366\\nto: 1332\\nagg_count: 2\\nagg_amount...</td>\n",
       "    </tr>\n",
       "    <tr>\n",
       "      <th>3</th>\n",
       "      <td>7366</td>\n",
       "      <td>5463</td>\n",
       "      <td>2</td>\n",
       "      <td>1,527,734</td>\n",
       "      <td>1,527,734</td>\n",
       "      <td>from: 7366\\nto: 5463\\nagg_count: 2\\nagg_amount...</td>\n",
       "    </tr>\n",
       "    <tr>\n",
       "      <th>4</th>\n",
       "      <td>7366</td>\n",
       "      <td>5717</td>\n",
       "      <td>2</td>\n",
       "      <td>344,658</td>\n",
       "      <td>344,658</td>\n",
       "      <td>from: 7366\\nto: 5717\\nagg_count: 2\\nagg_amount...</td>\n",
       "    </tr>\n",
       "  </tbody>\n",
       "</table>\n",
       "</div>"
      ],
      "text/plain": [
       "  source target  agg_txn_count  agg_txn_amt     value  \\\n",
       "0   6427   8264              1            4         4   \n",
       "1   6427   9245            177       88,751    88,751   \n",
       "2   7366   1332              2    2,357,413 2,357,413   \n",
       "3   7366   5463              2    1,527,734 1,527,734   \n",
       "4   7366   5717              2      344,658   344,658   \n",
       "\n",
       "                                               title  \n",
       "0  from: 6427\\nto: 8264\\nagg_count: 1\\nagg_amount: 4  \n",
       "1  from: 6427\\nto: 9245\\nagg_count: 177\\nagg_amou...  \n",
       "2  from: 7366\\nto: 1332\\nagg_count: 2\\nagg_amount...  \n",
       "3  from: 7366\\nto: 5463\\nagg_count: 2\\nagg_amount...  \n",
       "4  from: 7366\\nto: 5717\\nagg_count: 2\\nagg_amount...  "
      ]
     },
     "execution_count": 22,
     "metadata": {},
     "output_type": "execute_result"
    }
   ],
   "source": [
    "edge_small['value'] = edge_small['agg_txn_amt']\n",
    "edge_small['title'] = edge_small.apply(lambda df: f'from: {df.source}\\nto: {df.target}\\nagg_count: {df.agg_txn_count:,.0f}\\nagg_amount: {df.agg_txn_amt:,.0f}', axis=1)\n",
    "edge_small.head()"
   ]
  },
  {
   "cell_type": "markdown",
   "metadata": {},
   "source": [
    "<h3>Setting edge size and information to display on hover</h3>"
   ]
  },
  {
   "cell_type": "code",
   "execution_count": 23,
   "metadata": {},
   "outputs": [],
   "source": [
    "edge_dict_G = {}\n",
    "for index, row in edge_small.iterrows():\n",
    "    edge_dict_G[tuple([row['source'], row['target']])] = {'value':row['value'], 'title':row['title']}\n",
    "nx.set_edge_attributes(G, edge_dict_G)\n",
    "\n",
    "show_graph(G, '05_edge_title_and_value.html')"
   ]
  },
  {
   "cell_type": "markdown",
   "metadata": {},
   "source": [
    "<h2>Community Detection with Large Dataset</h2>"
   ]
  },
  {
   "cell_type": "code",
   "execution_count": 52,
   "metadata": {},
   "outputs": [
    {
     "data": {
      "text/html": [
       "<div>\n",
       "<style scoped>\n",
       "    .dataframe tbody tr th:only-of-type {\n",
       "        vertical-align: middle;\n",
       "    }\n",
       "\n",
       "    .dataframe tbody tr th {\n",
       "        vertical-align: top;\n",
       "    }\n",
       "\n",
       "    .dataframe thead th {\n",
       "        text-align: right;\n",
       "    }\n",
       "</style>\n",
       "<table border=\"1\" class=\"dataframe\">\n",
       "  <thead>\n",
       "    <tr style=\"text-align: right;\">\n",
       "      <th></th>\n",
       "      <th>source</th>\n",
       "      <th>target</th>\n",
       "      <th>agg_edge_large_count</th>\n",
       "      <th>agg_edge_large_amt</th>\n",
       "      <th>value</th>\n",
       "      <th>title</th>\n",
       "    </tr>\n",
       "  </thead>\n",
       "  <tbody>\n",
       "    <tr>\n",
       "      <th>63958</th>\n",
       "      <td>9703</td>\n",
       "      <td>6059</td>\n",
       "      <td>20</td>\n",
       "      <td>2,506</td>\n",
       "      <td>2,506</td>\n",
       "      <td>from: 9703\\nto: 6059\\nagg_count: 20\\nagg_amoun...</td>\n",
       "    </tr>\n",
       "    <tr>\n",
       "      <th>38025</th>\n",
       "      <td>7369</td>\n",
       "      <td>9795</td>\n",
       "      <td>2</td>\n",
       "      <td>1,338,379</td>\n",
       "      <td>1,338,379</td>\n",
       "      <td>from: 7369\\nto: 9795\\nagg_count: 2\\nagg_amount...</td>\n",
       "    </tr>\n",
       "    <tr>\n",
       "      <th>64700</th>\n",
       "      <td>9722</td>\n",
       "      <td>9962</td>\n",
       "      <td>20</td>\n",
       "      <td>2,973</td>\n",
       "      <td>2,973</td>\n",
       "      <td>from: 9722\\nto: 9962\\nagg_count: 20\\nagg_amoun...</td>\n",
       "    </tr>\n",
       "    <tr>\n",
       "      <th>41653</th>\n",
       "      <td>7881</td>\n",
       "      <td>9751</td>\n",
       "      <td>20</td>\n",
       "      <td>5,923</td>\n",
       "      <td>5,923</td>\n",
       "      <td>from: 7881\\nto: 9751\\nagg_count: 20\\nagg_amoun...</td>\n",
       "    </tr>\n",
       "    <tr>\n",
       "      <th>23451</th>\n",
       "      <td>5376</td>\n",
       "      <td>4205</td>\n",
       "      <td>2</td>\n",
       "      <td>1,755,996</td>\n",
       "      <td>1,755,996</td>\n",
       "      <td>from: 5376\\nto: 4205\\nagg_count: 2\\nagg_amount...</td>\n",
       "    </tr>\n",
       "    <tr>\n",
       "      <th>...</th>\n",
       "      <td>...</td>\n",
       "      <td>...</td>\n",
       "      <td>...</td>\n",
       "      <td>...</td>\n",
       "      <td>...</td>\n",
       "      <td>...</td>\n",
       "    </tr>\n",
       "    <tr>\n",
       "      <th>61987</th>\n",
       "      <td>9647</td>\n",
       "      <td>9206</td>\n",
       "      <td>20</td>\n",
       "      <td>3,453</td>\n",
       "      <td>3,453</td>\n",
       "      <td>from: 9647\\nto: 9206\\nagg_count: 20\\nagg_amoun...</td>\n",
       "    </tr>\n",
       "    <tr>\n",
       "      <th>5068</th>\n",
       "      <td>2132</td>\n",
       "      <td>8921</td>\n",
       "      <td>23</td>\n",
       "      <td>701</td>\n",
       "      <td>701</td>\n",
       "      <td>from: 2132\\nto: 8921\\nagg_count: 23\\nagg_amoun...</td>\n",
       "    </tr>\n",
       "    <tr>\n",
       "      <th>21665</th>\n",
       "      <td>5185</td>\n",
       "      <td>5233</td>\n",
       "      <td>21</td>\n",
       "      <td>448</td>\n",
       "      <td>448</td>\n",
       "      <td>from: 5185\\nto: 5233\\nagg_count: 21\\nagg_amoun...</td>\n",
       "    </tr>\n",
       "    <tr>\n",
       "      <th>68701</th>\n",
       "      <td>998</td>\n",
       "      <td>275</td>\n",
       "      <td>15</td>\n",
       "      <td>5,846</td>\n",
       "      <td>5,846</td>\n",
       "      <td>from: 998\\nto: 275\\nagg_count: 15\\nagg_amount:...</td>\n",
       "    </tr>\n",
       "    <tr>\n",
       "      <th>43896</th>\n",
       "      <td>8141</td>\n",
       "      <td>7693</td>\n",
       "      <td>23</td>\n",
       "      <td>240</td>\n",
       "      <td>240</td>\n",
       "      <td>from: 8141\\nto: 7693\\nagg_count: 23\\nagg_amoun...</td>\n",
       "    </tr>\n",
       "  </tbody>\n",
       "</table>\n",
       "<p>2000 rows × 6 columns</p>\n",
       "</div>"
      ],
      "text/plain": [
       "      source target  agg_edge_large_count  agg_edge_large_amt     value  \\\n",
       "63958   9703   6059                    20               2,506     2,506   \n",
       "38025   7369   9795                     2           1,338,379 1,338,379   \n",
       "64700   9722   9962                    20               2,973     2,973   \n",
       "41653   7881   9751                    20               5,923     5,923   \n",
       "23451   5376   4205                     2           1,755,996 1,755,996   \n",
       "...      ...    ...                   ...                 ...       ...   \n",
       "61987   9647   9206                    20               3,453     3,453   \n",
       "5068    2132   8921                    23                 701       701   \n",
       "21665   5185   5233                    21                 448       448   \n",
       "68701    998    275                    15               5,846     5,846   \n",
       "43896   8141   7693                    23                 240       240   \n",
       "\n",
       "                                                   title  \n",
       "63958  from: 9703\\nto: 6059\\nagg_count: 20\\nagg_amoun...  \n",
       "38025  from: 7369\\nto: 9795\\nagg_count: 2\\nagg_amount...  \n",
       "64700  from: 9722\\nto: 9962\\nagg_count: 20\\nagg_amoun...  \n",
       "41653  from: 7881\\nto: 9751\\nagg_count: 20\\nagg_amoun...  \n",
       "23451  from: 5376\\nto: 4205\\nagg_count: 2\\nagg_amount...  \n",
       "...                                                  ...  \n",
       "61987  from: 9647\\nto: 9206\\nagg_count: 20\\nagg_amoun...  \n",
       "5068   from: 2132\\nto: 8921\\nagg_count: 23\\nagg_amoun...  \n",
       "21665  from: 5185\\nto: 5233\\nagg_count: 21\\nagg_amoun...  \n",
       "68701  from: 998\\nto: 275\\nagg_count: 15\\nagg_amount:...  \n",
       "43896  from: 8141\\nto: 7693\\nagg_count: 23\\nagg_amoun...  \n",
       "\n",
       "[2000 rows x 6 columns]"
      ]
     },
     "execution_count": 52,
     "metadata": {},
     "output_type": "execute_result"
    }
   ],
   "source": [
    "txn_full = pd.read_csv('data/transactions.csv', usecols=['SENDER_ACCOUNT_ID','RECEIVER_ACCOUNT_ID','TX_AMOUNT'], dtype='object')\n",
    "txn_full['TX_AMOUNT'] = txn_full['TX_AMOUNT'].astype(float)\n",
    "\n",
    "edge_large = txn_full.groupby(['SENDER_ACCOUNT_ID', 'RECEIVER_ACCOUNT_ID'],as_index=False).agg({'TX_AMOUNT':['count','sum']}).sample(2000, random_state=721)\n",
    "edge_large.columns = ['source','target','agg_edge_large_count','agg_edge_large_amt']\n",
    "edge_large['value'] = edge_large['agg_edge_large_amt']\n",
    "edge_large['title'] = edge_large.apply(lambda df: f'from: {df.source}\\nto: {df.target}\\nagg_count: {df.agg_edge_large_count:,.0f}\\nagg_amount: {df.agg_edge_large_amt:,.0f}', axis=1)\n",
    "\n",
    "edge_large"
   ]
  },
  {
   "cell_type": "code",
   "execution_count": 53,
   "metadata": {},
   "outputs": [],
   "source": [
    "H = nx.from_pandas_edgelist(edge_large, source='source', target='target', edge_attr=['title','value'])\n",
    "\n",
    "#Note that we add the argument \"edge_attr\" in \"from_pandas_edgelist\" so that we don't have to add edge attribute seperately."
   ]
  },
  {
   "cell_type": "code",
   "execution_count": 54,
   "metadata": {},
   "outputs": [
    {
     "data": {
      "text/plain": [
       "[('9703',\n",
       "  '6059',\n",
       "  {'title': 'from: 9703\\nto: 6059\\nagg_count: 20\\nagg_amount: 2,506',\n",
       "   'value': 2505.8}),\n",
       " ('6059',\n",
       "  '7182',\n",
       "  {'title': 'from: 6059\\nto: 7182\\nagg_count: 22\\nagg_amount: 228',\n",
       "   'value': 228.14})]"
      ]
     },
     "execution_count": 54,
     "metadata": {},
     "output_type": "execute_result"
    }
   ],
   "source": [
    "list(H.edges(data=True))[0:2]"
   ]
  },
  {
   "cell_type": "code",
   "execution_count": 55,
   "metadata": {},
   "outputs": [],
   "source": [
    "nt = net.Network(directed=False)\n",
    "nt.toggle_physics(False)\n",
    "nt.from_nx(H)\n",
    "nt.show('06_H_full.html')"
   ]
  },
  {
   "cell_type": "markdown",
   "metadata": {},
   "source": [
    "<h3>Identify mutually exclusive communities</h3>"
   ]
  },
  {
   "cell_type": "code",
   "execution_count": 56,
   "metadata": {},
   "outputs": [
    {
     "data": {
      "text/plain": [
       "[{'4333', '6059', '7182', '9703'},\n",
       " {'4297', '5573', '7266', '7369', '9795'},\n",
       " {'5788', '8914', '9722', '9962'},\n",
       " {'6333', '7881', '7911', '9751', '9797'},\n",
       " {'4205', '474', '5366', '5376', '8708', '9789'}]"
      ]
     },
     "execution_count": 56,
     "metadata": {},
     "output_type": "execute_result"
    }
   ],
   "source": [
    "list(nx.connected_components(H))[0:5]"
   ]
  },
  {
   "cell_type": "code",
   "execution_count": 57,
   "metadata": {},
   "outputs": [
    {
     "data": {
      "text/plain": [
       "1041"
      ]
     },
     "execution_count": 57,
     "metadata": {},
     "output_type": "execute_result"
    }
   ],
   "source": [
    "len(list(nx.connected_components(H)))"
   ]
  },
  {
   "cell_type": "markdown",
   "metadata": {},
   "source": [
    "<h3>Assign community to each node</h3>"
   ]
  },
  {
   "cell_type": "code",
   "execution_count": 58,
   "metadata": {},
   "outputs": [],
   "source": [
    "group_dict_H = {}\n",
    "\n",
    "for group, nodes in enumerate(sorted(list(nx.connected_components(H)), key=len, reverse=True), start=1):\n",
    "    for node in nodes:\n",
    "        group_dict_H[node] = group"
   ]
  },
  {
   "cell_type": "code",
   "execution_count": 30,
   "metadata": {},
   "outputs": [],
   "source": [
    "## Alternative algorithm for community detection\n",
    "## https://python-louvain.readthedocs.io/en/latest/api.html\n",
    "## NOT RECOMMENDED FOR MONEY LAUNDERING DETECTION\n",
    "\n",
    "# import community.community_louvain as community_louvain\n",
    "# group_dict_H = community_louvain.best_partition(G, random_state=721)\n",
    "\n",
    "## Other algorithms: https://networkx.org/documentation/stable/reference/algorithms/community.html"
   ]
  },
  {
   "cell_type": "code",
   "execution_count": 66,
   "metadata": {},
   "outputs": [],
   "source": [
    "groups = pd.DataFrame({'source':group_dict_H.keys(), 'group':group_dict_H.values()}).sort_values(by=['group','source'])\n",
    "groups\n",
    "df_subset = groups[['source', 'group']]     #LAW\n",
    "df_subset.to_csv('groups.csv', index=False) #LAW"
   ]
  },
  {
   "cell_type": "code",
   "execution_count": 67,
   "metadata": {},
   "outputs": [
    {
     "data": {
      "text/html": [
       "<div>\n",
       "<style scoped>\n",
       "    .dataframe tbody tr th:only-of-type {\n",
       "        vertical-align: middle;\n",
       "    }\n",
       "\n",
       "    .dataframe tbody tr th {\n",
       "        vertical-align: top;\n",
       "    }\n",
       "\n",
       "    .dataframe thead th {\n",
       "        text-align: right;\n",
       "    }\n",
       "</style>\n",
       "<table border=\"1\" class=\"dataframe\">\n",
       "  <thead>\n",
       "    <tr style=\"text-align: right;\">\n",
       "      <th></th>\n",
       "      <th>group</th>\n",
       "      <th>num_of_nodes</th>\n",
       "    </tr>\n",
       "  </thead>\n",
       "  <tbody>\n",
       "    <tr>\n",
       "      <th>0</th>\n",
       "      <td>1</td>\n",
       "      <td>64</td>\n",
       "    </tr>\n",
       "    <tr>\n",
       "      <th>1</th>\n",
       "      <td>2</td>\n",
       "      <td>35</td>\n",
       "    </tr>\n",
       "    <tr>\n",
       "      <th>2</th>\n",
       "      <td>3</td>\n",
       "      <td>27</td>\n",
       "    </tr>\n",
       "    <tr>\n",
       "      <th>3</th>\n",
       "      <td>4</td>\n",
       "      <td>24</td>\n",
       "    </tr>\n",
       "    <tr>\n",
       "      <th>4</th>\n",
       "      <td>5</td>\n",
       "      <td>21</td>\n",
       "    </tr>\n",
       "    <tr>\n",
       "      <th>...</th>\n",
       "      <td>...</td>\n",
       "      <td>...</td>\n",
       "    </tr>\n",
       "    <tr>\n",
       "      <th>1036</th>\n",
       "      <td>1037</td>\n",
       "      <td>2</td>\n",
       "    </tr>\n",
       "    <tr>\n",
       "      <th>1037</th>\n",
       "      <td>1038</td>\n",
       "      <td>2</td>\n",
       "    </tr>\n",
       "    <tr>\n",
       "      <th>1038</th>\n",
       "      <td>1039</td>\n",
       "      <td>2</td>\n",
       "    </tr>\n",
       "    <tr>\n",
       "      <th>1039</th>\n",
       "      <td>1040</td>\n",
       "      <td>2</td>\n",
       "    </tr>\n",
       "    <tr>\n",
       "      <th>1040</th>\n",
       "      <td>1041</td>\n",
       "      <td>2</td>\n",
       "    </tr>\n",
       "  </tbody>\n",
       "</table>\n",
       "<p>1041 rows × 2 columns</p>\n",
       "</div>"
      ],
      "text/plain": [
       "      group  num_of_nodes\n",
       "0         1            64\n",
       "1         2            35\n",
       "2         3            27\n",
       "3         4            24\n",
       "4         5            21\n",
       "...     ...           ...\n",
       "1036   1037             2\n",
       "1037   1038             2\n",
       "1038   1039             2\n",
       "1039   1040             2\n",
       "1040   1041             2\n",
       "\n",
       "[1041 rows x 2 columns]"
      ]
     },
     "execution_count": 67,
     "metadata": {},
     "output_type": "execute_result"
    }
   ],
   "source": [
    "group_summary = groups.groupby('group', as_index=False).agg({'source':'count'}).rename(columns={'source':'num_of_nodes'})\n",
    "group_summary"
   ]
  },
  {
   "cell_type": "markdown",
   "metadata": {},
   "source": [
    "<h3>Display ID, group, degree and neighbors in graph (hover on node)</h3>"
   ]
  },
  {
   "cell_type": "code",
   "execution_count": 69,
   "metadata": {},
   "outputs": [],
   "source": [
    "nx.set_node_attributes(H, group_dict_H, 'group')\n",
    "\n",
    "degree_dict_H = dict(H.degree)\n",
    "nx.set_node_attributes(H, degree_dict_H, 'value')\n",
    "\n",
    "neighbor_dict_H = {}\n",
    "for node in list(H.nodes):\n",
    "    neighbor_dict_H[node] = ','.join(H.neighbors(node))\n",
    "\n",
    "title_dict_H = {}\n",
    "for node in list(H.nodes):\n",
    "    title_dict_H[node] = f'id: {node}\\ngroup: {group_dict_H[node]}\\ndegree: {degree_dict_H[node]}\\nneighbor: {neighbor_dict_H[node]}'\n",
    "nx.set_node_attributes(H, title_dict_H, 'title')"
   ]
  },
  {
   "cell_type": "markdown",
   "metadata": {},
   "source": [
    "<h3>Create subgraph to display selected groups only</h3>"
   ]
  },
  {
   "cell_type": "code",
   "execution_count": 72,
   "metadata": {},
   "outputs": [],
   "source": [
    "target_groups = [4]\n",
    "target_nodes = [node for node, group in group_dict_H.items() if group in target_groups]\n",
    "\n",
    "H_sub = H.subgraph(target_nodes)"
   ]
  },
  {
   "cell_type": "markdown",
   "metadata": {},
   "source": [
    "<h3>Display group 1-4 with pyvis default layout</h3>"
   ]
  },
  {
   "cell_type": "code",
   "execution_count": 73,
   "metadata": {},
   "outputs": [],
   "source": [
    "show_graph(H_sub, '07_communities_pyvis_default.html')"
   ]
  },
  {
   "cell_type": "markdown",
   "metadata": {},
   "source": [
    "<h3>Display group 1-4 with networkx kamada kawai layout</h3>"
   ]
  },
  {
   "cell_type": "code",
   "execution_count": 38,
   "metadata": {},
   "outputs": [],
   "source": [
    "nt = net.Network(directed=True)\n",
    "nt.from_nx(H_sub)\n",
    "\n",
    "pos = nx.kamada_kawai_layout(H_sub, scale=1000)\n",
    "for node in nt.nodes:\n",
    "    node['x'] = pos[node['id']][0]\n",
    "    node['y'] = pos[node['id']][1]\n",
    "\n",
    "nt.show('08_communities_kamada_kawai.html')"
   ]
  },
  {
   "cell_type": "markdown",
   "metadata": {},
   "source": [
    "<h3>Display group 1-4 with networkx spring layout</h3>"
   ]
  },
  {
   "cell_type": "code",
   "execution_count": 39,
   "metadata": {},
   "outputs": [],
   "source": [
    "nt = net.Network(directed=True)\n",
    "nt.from_nx(H_sub)\n",
    "\n",
    "pos = nx.spring_layout(H_sub, scale=1000, seed=721, k=0.01)\n",
    "for node in nt.nodes:\n",
    "    node['x'] = pos[node['id']][0]\n",
    "    node['y'] = pos[node['id']][1]\n",
    "\n",
    "nt.show('09_communities_spring.html')"
   ]
  },
  {
   "cell_type": "markdown",
   "metadata": {},
   "source": [
    "<h3>Identify end-to-end fund flow of any given node</h3>"
   ]
  },
  {
   "cell_type": "code",
   "execution_count": 77,
   "metadata": {},
   "outputs": [],
   "source": [
    "target_node = '9989'\n",
    "target_groups = [dict(H.nodes(data=True))[target_node]['group']]\n",
    "target_nodes = [node for node, group in group_dict_H.items() if group in target_groups]\n",
    "\n",
    "H_sub = H.subgraph(target_nodes)\n",
    "\n",
    "nt = net.Network(directed=True)\n",
    "nt.from_nx(H_sub)\n",
    "\n",
    "pos = nx.spring_layout(H_sub, scale=1000, seed=721, k=0.01)\n",
    "for node in nt.nodes:\n",
    "    node['x'] = pos[node['id']][0]\n",
    "    node['y'] = pos[node['id']][1]\n",
    "\n",
    "[node for node in nt.nodes if node['id']==target_node][0]['shape'] = 'image'\n",
    "[node for node in nt.nodes if node['id']==target_node][0]['image'] = 'https://openmoji.org/data/color/svg/1F608.svg'\n",
    "[node for node in nt.nodes if node['id']==target_node][0]['color'] = '#ff4f4f'\n",
    "\n",
    "nt.show('10_show_group_with_given_node.html')"
   ]
  },
  {
   "cell_type": "markdown",
   "metadata": {},
   "source": [
    "<h3>Export node and edge information for further analysis</h3>"
   ]
  },
  {
   "cell_type": "code",
   "execution_count": 79,
   "metadata": {},
   "outputs": [
    {
     "data": {
      "text/html": [
       "<div>\n",
       "<style scoped>\n",
       "    .dataframe tbody tr th:only-of-type {\n",
       "        vertical-align: middle;\n",
       "    }\n",
       "\n",
       "    .dataframe tbody tr th {\n",
       "        vertical-align: top;\n",
       "    }\n",
       "\n",
       "    .dataframe thead th {\n",
       "        text-align: right;\n",
       "    }\n",
       "</style>\n",
       "<table border=\"1\" class=\"dataframe\">\n",
       "  <thead>\n",
       "    <tr style=\"text-align: right;\">\n",
       "      <th></th>\n",
       "      <th>source</th>\n",
       "      <th>group</th>\n",
       "      <th>degree</th>\n",
       "      <th>neighbor</th>\n",
       "    </tr>\n",
       "  </thead>\n",
       "  <tbody>\n",
       "    <tr>\n",
       "      <th>17</th>\n",
       "      <td>1503</td>\n",
       "      <td>4</td>\n",
       "      <td>1</td>\n",
       "      <td>9006</td>\n",
       "    </tr>\n",
       "    <tr>\n",
       "      <th>20</th>\n",
       "      <td>2394</td>\n",
       "      <td>4</td>\n",
       "      <td>2</td>\n",
       "      <td>6642,9158</td>\n",
       "    </tr>\n",
       "    <tr>\n",
       "      <th>8</th>\n",
       "      <td>5049</td>\n",
       "      <td>4</td>\n",
       "      <td>1</td>\n",
       "      <td>9989</td>\n",
       "    </tr>\n",
       "    <tr>\n",
       "      <th>19</th>\n",
       "      <td>6642</td>\n",
       "      <td>4</td>\n",
       "      <td>1</td>\n",
       "      <td>2394</td>\n",
       "    </tr>\n",
       "    <tr>\n",
       "      <th>15</th>\n",
       "      <td>6743</td>\n",
       "      <td>4</td>\n",
       "      <td>1</td>\n",
       "      <td>9912</td>\n",
       "    </tr>\n",
       "    <tr>\n",
       "      <th>3</th>\n",
       "      <td>7119</td>\n",
       "      <td>4</td>\n",
       "      <td>2</td>\n",
       "      <td>9006,9587</td>\n",
       "    </tr>\n",
       "    <tr>\n",
       "      <th>0</th>\n",
       "      <td>7377</td>\n",
       "      <td>4</td>\n",
       "      <td>1</td>\n",
       "      <td>9014</td>\n",
       "    </tr>\n",
       "    <tr>\n",
       "      <th>13</th>\n",
       "      <td>7714</td>\n",
       "      <td>4</td>\n",
       "      <td>2</td>\n",
       "      <td>8246,9976</td>\n",
       "    </tr>\n",
       "    <tr>\n",
       "      <th>11</th>\n",
       "      <td>8246</td>\n",
       "      <td>4</td>\n",
       "      <td>2</td>\n",
       "      <td>9746,7714</td>\n",
       "    </tr>\n",
       "    <tr>\n",
       "      <th>5</th>\n",
       "      <td>8299</td>\n",
       "      <td>4</td>\n",
       "      <td>4</td>\n",
       "      <td>9912,9448,9014,8785</td>\n",
       "    </tr>\n",
       "    <tr>\n",
       "      <th>21</th>\n",
       "      <td>8687</td>\n",
       "      <td>4</td>\n",
       "      <td>1</td>\n",
       "      <td>9976</td>\n",
       "    </tr>\n",
       "    <tr>\n",
       "      <th>7</th>\n",
       "      <td>8785</td>\n",
       "      <td>4</td>\n",
       "      <td>2</td>\n",
       "      <td>8299,9989</td>\n",
       "    </tr>\n",
       "    <tr>\n",
       "      <th>18</th>\n",
       "      <td>8929</td>\n",
       "      <td>4</td>\n",
       "      <td>1</td>\n",
       "      <td>9014</td>\n",
       "    </tr>\n",
       "    <tr>\n",
       "      <th>16</th>\n",
       "      <td>9006</td>\n",
       "      <td>4</td>\n",
       "      <td>3</td>\n",
       "      <td>7119,1503,9014</td>\n",
       "    </tr>\n",
       "    <tr>\n",
       "      <th>1</th>\n",
       "      <td>9014</td>\n",
       "      <td>4</td>\n",
       "      <td>5</td>\n",
       "      <td>7377,9746,8929,9006,8299</td>\n",
       "    </tr>\n",
       "    <tr>\n",
       "      <th>23</th>\n",
       "      <td>9158</td>\n",
       "      <td>4</td>\n",
       "      <td>2</td>\n",
       "      <td>9989,2394</td>\n",
       "    </tr>\n",
       "    <tr>\n",
       "      <th>22</th>\n",
       "      <td>9283</td>\n",
       "      <td>4</td>\n",
       "      <td>1</td>\n",
       "      <td>9989</td>\n",
       "    </tr>\n",
       "    <tr>\n",
       "      <th>12</th>\n",
       "      <td>9328</td>\n",
       "      <td>4</td>\n",
       "      <td>1</td>\n",
       "      <td>9912</td>\n",
       "    </tr>\n",
       "    <tr>\n",
       "      <th>4</th>\n",
       "      <td>9448</td>\n",
       "      <td>4</td>\n",
       "      <td>1</td>\n",
       "      <td>8299</td>\n",
       "    </tr>\n",
       "    <tr>\n",
       "      <th>2</th>\n",
       "      <td>9587</td>\n",
       "      <td>4</td>\n",
       "      <td>1</td>\n",
       "      <td>7119</td>\n",
       "    </tr>\n",
       "  </tbody>\n",
       "</table>\n",
       "</div>"
      ],
      "text/plain": [
       "   source  group  degree                  neighbor\n",
       "17   1503      4       1                      9006\n",
       "20   2394      4       2                 6642,9158\n",
       "8    5049      4       1                      9989\n",
       "19   6642      4       1                      2394\n",
       "15   6743      4       1                      9912\n",
       "3    7119      4       2                 9006,9587\n",
       "0    7377      4       1                      9014\n",
       "13   7714      4       2                 8246,9976\n",
       "11   8246      4       2                 9746,7714\n",
       "5    8299      4       4       9912,9448,9014,8785\n",
       "21   8687      4       1                      9976\n",
       "7    8785      4       2                 8299,9989\n",
       "18   8929      4       1                      9014\n",
       "16   9006      4       3            7119,1503,9014\n",
       "1    9014      4       5  7377,9746,8929,9006,8299\n",
       "23   9158      4       2                 9989,2394\n",
       "22   9283      4       1                      9989\n",
       "12   9328      4       1                      9912\n",
       "4    9448      4       1                      8299\n",
       "2    9587      4       1                      7119"
      ]
     },
     "execution_count": 79,
     "metadata": {},
     "output_type": "execute_result"
    }
   ],
   "source": [
    "H_sub_nodes = pd.DataFrame(nt.nodes)[['id','group','value','title']].rename(columns={'id':'source','value':'degree','title':'neighbor'}).sort_values(by='source')\n",
    "H_sub_nodes['neighbor'] = H_sub_nodes['neighbor'].apply(lambda x:x.split('neighbor: ')[-1])\n",
    "H_sub_nodes.head(20)"
   ]
  },
  {
   "cell_type": "code",
   "execution_count": 42,
   "metadata": {},
   "outputs": [
    {
     "data": {
      "text/html": [
       "<div>\n",
       "<style scoped>\n",
       "    .dataframe tbody tr th:only-of-type {\n",
       "        vertical-align: middle;\n",
       "    }\n",
       "\n",
       "    .dataframe tbody tr th {\n",
       "        vertical-align: top;\n",
       "    }\n",
       "\n",
       "    .dataframe thead th {\n",
       "        text-align: right;\n",
       "    }\n",
       "</style>\n",
       "<table border=\"1\" class=\"dataframe\">\n",
       "  <thead>\n",
       "    <tr style=\"text-align: right;\">\n",
       "      <th></th>\n",
       "      <th>source</th>\n",
       "      <th>target</th>\n",
       "      <th>agg_edge_large_count</th>\n",
       "      <th>agg_edge_large_amt</th>\n",
       "    </tr>\n",
       "  </thead>\n",
       "  <tbody>\n",
       "    <tr>\n",
       "      <th>6847</th>\n",
       "      <td>2394</td>\n",
       "      <td>9158</td>\n",
       "      <td>3</td>\n",
       "      <td>22,831,488</td>\n",
       "    </tr>\n",
       "    <tr>\n",
       "      <th>20399</th>\n",
       "      <td>5049</td>\n",
       "      <td>9989</td>\n",
       "      <td>24</td>\n",
       "      <td>371</td>\n",
       "    </tr>\n",
       "    <tr>\n",
       "      <th>31225</th>\n",
       "      <td>6642</td>\n",
       "      <td>2394</td>\n",
       "      <td>20</td>\n",
       "      <td>3,114</td>\n",
       "    </tr>\n",
       "    <tr>\n",
       "      <th>32421</th>\n",
       "      <td>6743</td>\n",
       "      <td>9912</td>\n",
       "      <td>20</td>\n",
       "      <td>2,012</td>\n",
       "    </tr>\n",
       "    <tr>\n",
       "      <th>34844</th>\n",
       "      <td>7119</td>\n",
       "      <td>9587</td>\n",
       "      <td>24</td>\n",
       "      <td>363</td>\n",
       "    </tr>\n",
       "  </tbody>\n",
       "</table>\n",
       "</div>"
      ],
      "text/plain": [
       "      source target  agg_edge_large_count  agg_edge_large_amt\n",
       "6847    2394   9158                     3          22,831,488\n",
       "20399   5049   9989                    24                 371\n",
       "31225   6642   2394                    20               3,114\n",
       "32421   6743   9912                    20               2,012\n",
       "34844   7119   9587                    24                 363"
      ]
     },
     "execution_count": 42,
     "metadata": {},
     "output_type": "execute_result"
    }
   ],
   "source": [
    "H_sub_edges = edge_large[(edge_large['source'].isin(target_nodes)) | (edge_large['target'].isin(target_nodes))].drop(columns=['value','title']).sort_values(by=['source','target'])\n",
    "H_sub_edges.head()"
   ]
  },
  {
   "cell_type": "markdown",
   "metadata": {},
   "source": [
    "<h2>How to Determine Sampling Period</h2>"
   ]
  },
  {
   "cell_type": "code",
   "execution_count": 43,
   "metadata": {},
   "outputs": [
    {
     "data": {
      "text/html": [
       "<div>\n",
       "<style scoped>\n",
       "    .dataframe tbody tr th:only-of-type {\n",
       "        vertical-align: middle;\n",
       "    }\n",
       "\n",
       "    .dataframe tbody tr th {\n",
       "        vertical-align: top;\n",
       "    }\n",
       "\n",
       "    .dataframe thead th {\n",
       "        text-align: right;\n",
       "    }\n",
       "</style>\n",
       "<table border=\"1\" class=\"dataframe\">\n",
       "  <thead>\n",
       "    <tr style=\"text-align: right;\">\n",
       "      <th></th>\n",
       "      <th>sample_size</th>\n",
       "      <th>max_group_size</th>\n",
       "    </tr>\n",
       "  </thead>\n",
       "  <tbody>\n",
       "    <tr>\n",
       "      <th>0</th>\n",
       "      <td>1000</td>\n",
       "      <td>11</td>\n",
       "    </tr>\n",
       "    <tr>\n",
       "      <th>1</th>\n",
       "      <td>1500</td>\n",
       "      <td>28</td>\n",
       "    </tr>\n",
       "    <tr>\n",
       "      <th>2</th>\n",
       "      <td>2000</td>\n",
       "      <td>64</td>\n",
       "    </tr>\n",
       "    <tr>\n",
       "      <th>3</th>\n",
       "      <td>2500</td>\n",
       "      <td>121</td>\n",
       "    </tr>\n",
       "    <tr>\n",
       "      <th>4</th>\n",
       "      <td>3000</td>\n",
       "      <td>406</td>\n",
       "    </tr>\n",
       "    <tr>\n",
       "      <th>...</th>\n",
       "      <td>...</td>\n",
       "      <td>...</td>\n",
       "    </tr>\n",
       "    <tr>\n",
       "      <th>131</th>\n",
       "      <td>66500</td>\n",
       "      <td>9995</td>\n",
       "    </tr>\n",
       "    <tr>\n",
       "      <th>132</th>\n",
       "      <td>67000</td>\n",
       "      <td>9997</td>\n",
       "    </tr>\n",
       "    <tr>\n",
       "      <th>133</th>\n",
       "      <td>67500</td>\n",
       "      <td>9998</td>\n",
       "    </tr>\n",
       "    <tr>\n",
       "      <th>134</th>\n",
       "      <td>68000</td>\n",
       "      <td>9999</td>\n",
       "    </tr>\n",
       "    <tr>\n",
       "      <th>135</th>\n",
       "      <td>68500</td>\n",
       "      <td>9999</td>\n",
       "    </tr>\n",
       "  </tbody>\n",
       "</table>\n",
       "<p>136 rows × 2 columns</p>\n",
       "</div>"
      ],
      "text/plain": [
       "     sample_size  max_group_size\n",
       "0           1000              11\n",
       "1           1500              28\n",
       "2           2000              64\n",
       "3           2500             121\n",
       "4           3000             406\n",
       "..           ...             ...\n",
       "131        66500            9995\n",
       "132        67000            9997\n",
       "133        67500            9998\n",
       "134        68000            9999\n",
       "135        68500            9999\n",
       "\n",
       "[136 rows x 2 columns]"
      ]
     },
     "execution_count": 43,
     "metadata": {},
     "output_type": "execute_result"
    }
   ],
   "source": [
    "# Replace random sampling with different range of timeframe (e.g. week, month, quarter, year etc.) for real-life cases\n",
    "\n",
    "edge_full = txn_full.groupby(['SENDER_ACCOUNT_ID', 'RECEIVER_ACCOUNT_ID'],as_index=False).agg({'TX_AMOUNT':'count'}).drop(columns=['TX_AMOUNT']).rename(columns={'SENDER_ACCOUNT_ID':'source','RECEIVER_ACCOUNT_ID':'target'})\n",
    "\n",
    "max_dict = {}\n",
    "for i in range(1000, len(edge_full)+1, 500):\n",
    "    G = nx.from_pandas_edgelist(edge_full.sample(i, random_state=721), source='source', target='target')\n",
    "    max_dict[i] = max(sorted([len(x) for x in list(nx.connected_components(G))]))\n",
    "\n",
    "max_group_size_per_sample = pd.DataFrame({'sample_size':max_dict.keys(), 'max_group_size':max_dict.values()})\n",
    "max_group_size_per_sample"
   ]
  },
  {
   "cell_type": "code",
   "execution_count": 44,
   "metadata": {},
   "outputs": [
    {
     "data": {
      "image/png": "[encoded data removed]",
      "text/plain": [
       "<Figure size 1000x800 with 1 Axes>"
      ]
     },
     "metadata": {},
     "output_type": "display_data"
    }
   ],
   "source": [
    "max_group_size_per_sample.plot(x='sample_size', y='max_group_size', figsize=(10,8))\n",
    "plt.show()"
   ]
  }
 ],
 "metadata": {
  "kernelspec": {
   "display_name": "Python 3",
   "language": "python",
   "name": "python3"
  },
  "language_info": {
   "codemirror_mode": {
    "name": "ipython",
    "version": 3
   },
   "file_extension": ".py",
   "mimetype": "text/x-python",
   "name": "python",
   "nbconvert_exporter": "python",
   "pygments_lexer": "ipython3",
   "version": "3.12.2"
  },
  "vscode": {
   "interpreter": {
    "hash": "ad2bdc8ecc057115af97d19610ffacc2b4e99fae6737bb82f5d7fb13d2f2c186"
   }
  }
 },
 "nbformat": 4,
 "nbformat_minor": 4
}
